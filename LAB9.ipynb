{
  "nbformat": 4,
  "nbformat_minor": 0,
  "metadata": {
    "colab": {
      "provenance": [],
      "mount_file_id": "https://github.com/Soujanyak149/BFS/blob/main/LAB9.ipynb",
      "authorship_tag": "ABX9TyODp5HeKpIYI79Z9vbdbQ5L",
      "include_colab_link": true
    },
    "kernelspec": {
      "name": "python3",
      "display_name": "Python 3"
    },
    "language_info": {
      "name": "python"
    }
  },
  "cells": [
    {
      "cell_type": "markdown",
      "metadata": {
        "id": "view-in-github",
        "colab_type": "text"
      },
      "source": [
        "<a href=\"https://colab.research.google.com/github/Soujanyak149/BFS/blob/main/LAB9.ipynb\" target=\"_parent\"><img src=\"https://colab.research.google.com/assets/colab-badge.svg\" alt=\"Open In Colab\"/></a>"
      ]
    },
    {
      "cell_type": "code",
      "execution_count": 7,
      "metadata": {
        "colab": {
          "base_uri": "https://localhost:8080/",
          "height": 1000
        },
        "id": "MZOHaQrJ1Mrm",
        "outputId": "54fd1858-f3c9-4758-f56d-5b0e072bf2cd"
      },
      "outputs": [
        {
          "output_type": "stream",
          "name": "stdout",
          "text": [
            "Drive already mounted at /content/drive; to attempt to forcibly remount, call drive.mount(\"/content/drive\", force_remount=True).\n",
            "Accuracy: 80.83%\n",
            "\n",
            "Classification Report:\n",
            "              precision    recall  f1-score   support\n",
            "\n",
            "           0       0.67      1.00      0.80         2\n",
            "           1       1.00      1.00      1.00         2\n",
            "           2       0.33      0.67      0.44         3\n",
            "           3       1.00      0.00      0.00         5\n",
            "           4       1.00      0.50      0.67         4\n",
            "           5       1.00      1.00      1.00         2\n",
            "           7       1.00      0.75      0.86         4\n",
            "           8       1.00      0.67      0.80         3\n",
            "           9       1.00      0.75      0.86         4\n",
            "          10       1.00      1.00      1.00         3\n",
            "          11       1.00      1.00      1.00         1\n",
            "          12       0.40      1.00      0.57         4\n",
            "          13       1.00      0.80      0.89         5\n",
            "          14       1.00      0.40      0.57         5\n",
            "          15       0.67      1.00      0.80         2\n",
            "          16       1.00      0.67      0.80         3\n",
            "          17       1.00      1.00      1.00         3\n",
            "          18       1.00      1.00      1.00         3\n",
            "          19       0.67      1.00      0.80         2\n",
            "          20       1.00      1.00      1.00         3\n",
            "          21       1.00      0.67      0.80         3\n",
            "          22       1.00      0.60      0.75         5\n",
            "          23       1.00      0.75      0.86         4\n",
            "          24       1.00      1.00      1.00         3\n",
            "          25       1.00      0.75      0.86         4\n",
            "          26       1.00      1.00      1.00         2\n",
            "          27       1.00      1.00      1.00         5\n",
            "          28       0.50      1.00      0.67         2\n",
            "          29       1.00      1.00      1.00         2\n",
            "          30       1.00      1.00      1.00         2\n",
            "          31       1.00      0.75      0.86         4\n",
            "          32       1.00      1.00      1.00         2\n",
            "          34       0.25      1.00      0.40         1\n",
            "          35       1.00      1.00      1.00         5\n",
            "          36       1.00      1.00      1.00         3\n",
            "          37       1.00      1.00      1.00         1\n",
            "          38       1.00      0.75      0.86         4\n",
            "          39       0.50      1.00      0.67         5\n",
            "\n",
            "    accuracy                           0.81       120\n",
            "   macro avg       0.89      0.85      0.83       120\n",
            "weighted avg       0.91      0.81      0.81       120\n",
            "\n",
            "\n",
            "Confusion Matrix:\n",
            "[[2 0 0 ... 0 0 0]\n",
            " [0 2 0 ... 0 0 0]\n",
            " [0 0 2 ... 0 0 1]\n",
            " ...\n",
            " [0 0 0 ... 1 0 0]\n",
            " [0 0 0 ... 0 3 0]\n",
            " [0 0 0 ... 0 0 5]]\n",
            "\n",
            "Cross-validation accuracy: 87.25%\n",
            "\n",
            "Predicted label for your image: 15\n"
          ]
        },
        {
          "output_type": "display_data",
          "data": {
            "text/plain": [
              "<Figure size 640x480 with 1 Axes>"
            ],
            "image/png": "[encoded data removed]"
          },
          "metadata": {}
        }
      ],
      "source": [
        "# === Mount Google Drive ===\n",
        "from google.colab import drive\n",
        "drive.mount('/content/drive')\n",
        "\n",
        "# === Imports ===\n",
        "import numpy as np\n",
        "import matplotlib.pyplot as plt\n",
        "from sklearn.datasets import fetch_olivetti_faces\n",
        "from sklearn.model_selection import train_test_split, cross_val_score\n",
        "from sklearn.naive_bayes import GaussianNB\n",
        "from sklearn.metrics import accuracy_score, classification_report, confusion_matrix\n",
        "from PIL import Image\n",
        "import os\n",
        "\n",
        "# === Load Olivetti Faces Dataset ===\n",
        "data = fetch_olivetti_faces(shuffle=True, random_state=42)\n",
        "X = data.data\n",
        "y = data.target\n",
        "\n",
        "# === Train/Test Split ===\n",
        "X_train, X_test, y_train, y_test = train_test_split(X, y, test_size=0.3, random_state=42)\n",
        "\n",
        "# === Train Naive Bayes Model ===\n",
        "model = GaussianNB()\n",
        "model.fit(X_train, y_train)\n",
        "y_pred = model.predict(X_test)\n",
        "\n",
        "# === Evaluate Model ===\n",
        "print(f'Accuracy: {accuracy_score(y_test, y_pred) * 100:.2f}%')\n",
        "print(\"\\nClassification Report:\")\n",
        "print(classification_report(y_test, y_pred, zero_division=1))\n",
        "print(\"\\nConfusion Matrix:\")\n",
        "print(confusion_matrix(y_test, y_pred))\n",
        "print(f'\\nCross-validation accuracy: {cross_val_score(model, X, y, cv=5).mean() * 100:.2f}%')\n",
        "\n",
        "# === Predict Your Image ===\n",
        "\n",
        "# 🔁 Update this path to your image inside Google Drive\n",
        "# e.g., \"MyDrive/foldername/image.jpg\"\n",
        "image_path = '/content/drive/MyDrive/IMG-20250302-WA0017.jpg'\n",
        "\n",
        "# Check if file exists\n",
        "if not os.path.exists(image_path):\n",
        "    raise FileNotFoundError(f\"Image not found at: {image_path}\")\n",
        "\n",
        "# Load and preprocess image\n",
        "your_img = Image.open(image_path).convert('L')  # Convert to grayscale\n",
        "your_img = your_img.resize((64, 64))  # Resize to 64x64\n",
        "your_img_array = np.array(your_img) / 255.0  # Normalize pixel values\n",
        "your_img_flat = your_img_array.reshape(1, -1)  # Flatten to match Olivetti shape\n",
        "\n",
        "# Check feature compatibility\n",
        "if your_img_flat.shape[1] != X.shape[1]:\n",
        "    raise ValueError(f\"Your image has {your_img_flat.shape[1]} features, but model expects {X.shape[1]}.\")\n",
        "\n",
        "# Predict\n",
        "your_pred = model.predict(your_img_flat)[0]\n",
        "print(f\"\\nPredicted label for your image: {your_pred}\")\n",
        "\n",
        "# Show your image with prediction\n",
        "plt.imshow(your_img_array, cmap='gray')\n",
        "plt.title(f\"Predicted Label: {your_pred}\")\n",
        "plt.axis('off')\n",
        "plt.show()\n"
      ]
    }
  ]
}