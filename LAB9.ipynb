
# === Mount Google Drive ===
from google.colab import drive
drive.mount('/content/drive/MyDrive/\.jpeg')

# === Imports ===
import numpy as np
import matplotlib.pyplot as plt
from sklearn.datasets import fetch_olivetti_faces
from sklearn.model_selection import train_test_split, cross_val_score
from sklearn.naive_bayes import GaussianNB
from sklearn.metrics import accuracy_score, classification_report, confusion_matrix
from PIL import Image
import os

# === Load Olivetti Faces Dataset ===
data = fetch_olivetti_faces(shuffle=True, random_state=42)
X = data.data
y = data.target

# === Train/Test Split ===
X_train, X_test, y_train, y_test = train_test_split(X, y, test_size=0.3, random_state=42)

# === Train Naive Bayes Model ===
model = GaussianNB()
model.fit(X_train, y_train)
y_pred = model.predict(X_test)

# === Evaluate Model ===
print(f'Accuracy: {accuracy_score(y_test, y_pred) * 100:.2f}%')
print("\nClassification Report:")
print(classification_report(y_test, y_pred, zero_division=1))
print("\nConfusion Matrix:")
print(confusion_matrix(y_test, y_pred))
print(f'\nCross-validation accuracy: {cross_val_score(model, X, y, cv=5).mean() * 100:.2f}%')

# === Predict Your Image ===

# Update this path to your image on Google Drive
image_path = '/content/drive/My Drive/IMG_20240414_142632_391.jpg'

# Check if file exists
if not os.path.exists(image_path):
    raise FileNotFoundError(f"Image not found at: {image_path}")

# Load and preprocess image
your_img = Image.open(image_path).convert('L')  # convert to grayscale
your_img = your_img.resize((64, 64))  # resize to 64x64
your_img_array = np.array(your_img) / 255.0  # normalize
your_img_flat = your_img_array.reshape(1, -1)  # flatten

# Check compatibility
if your_img_flat.shape[1] != X.shape[1]:
    raise ValueError(f"Your image has {your_img_flat.shape[1]} features, but model expects {X.shape[1]}.")

# Predict
your_pred = model.predict(your_img_flat)[0]
print(f"\nPredicted label for your image: {your_pred}")

# Show your image
plt.imshow(your_img_array, cmap='gray')
plt.title(f"Predicted Label: {your_pred}")
plt.axis('off')
plt.show()
