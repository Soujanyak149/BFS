{
  "nbformat": 4,
  "nbformat_minor": 0,
  "metadata": {
    "colab": {
      "provenance": [],
      "authorship_tag": "ABX9TyMUVHmK/1caXKdHegBACfFn",
      "include_colab_link": true
    },
    "kernelspec": {
      "name": "python3",
      "display_name": "Python 3"
    },
    "language_info": {
      "name": "python"
    }
  },
  "cells": [
    {
      "cell_type": "markdown",
      "metadata": {
        "id": "view-in-github",
        "colab_type": "text"
      },
      "source": [
        "<a href=\"https://colab.research.google.com/github/Soujanyak149/BFS/blob/main/Untitled2.ipynb\" target=\"_parent\"><img src=\"https://colab.research.google.com/assets/colab-badge.svg\" alt=\"Open In Colab\"/></a>"
      ]
    },
    {
      "cell_type": "code",
      "execution_count": 1,
      "metadata": {
        "colab": {
          "base_uri": "https://localhost:8080/"
        },
        "id": "oVRWjZoMW1Fl",
        "outputId": "d0d3c651-77b7-4934-f2f8-816292b7061e"
      },
      "outputs": [
        {
          "output_type": "stream",
          "name": "stdout",
          "text": [
            "Enter Starting Node (A, B, C, D, or E): A\n",
            "\n",
            "RESULT:\n",
            "A B C D E "
          ]
        }
      ],
      "source": [
        "# Graph definition\n",
        "graph = {\n",
        "    'A': ['B', 'C'],\n",
        "    'B': ['A', 'C', 'D'],\n",
        "    'C': ['A', 'B', 'E'],\n",
        "    'D': ['B', 'E'],\n",
        "    'E': ['C', 'D']\n",
        "}\n",
        "\n",
        "# Visited and queue\n",
        "visitedNodes = []\n",
        "queueNodes = []\n",
        "\n",
        "# BFS Function\n",
        "def bfs(visitedNodes, graph, snode):\n",
        "    visitedNodes.append(snode)\n",
        "    queueNodes.append(snode)\n",
        "    print()\n",
        "    print(\"RESULT:\")\n",
        "    while queueNodes:\n",
        "        s = queueNodes.pop(0)\n",
        "        print(s, end=\" \")\n",
        "        for neighbour in graph[s]:\n",
        "            if neighbour not in visitedNodes:\n",
        "                visitedNodes.append(neighbour)\n",
        "                queueNodes.append(neighbour)\n",
        "\n",
        "# Run BFS\n",
        "snode = input(\"Enter Starting Node (A, B, C, D, or E): \").upper()\n",
        "bfs(visitedNodes, graph, snode)\n"
      ]
    }
  ]
}